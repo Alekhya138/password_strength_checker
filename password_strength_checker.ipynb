{
  "nbformat": 4,
  "nbformat_minor": 0,
  "metadata": {
    "colab": {
      "provenance": []
    },
    "kernelspec": {
      "name": "python3",
      "display_name": "Python 3"
    },
    "language_info": {
      "name": "python"
    }
  },
  "cells": [
    {
      "cell_type": "code",
      "execution_count": 3,
      "metadata": {
        "colab": {
          "base_uri": "https://localhost:8080/"
        },
        "id": "0v2tXQqfgjrD",
        "outputId": "2fb64617-32be-4ac2-f848-1eb2c4e9b58d"
      },
      "outputs": [
        {
          "output_type": "stream",
          "name": "stdout",
          "text": [
            "enter passwordabc@!87\n",
            "strong password\n"
          ]
        }
      ],
      "source": [
        "password = input(\"enter password\")\n",
        "has_letter = any(char.isalpha() for char in password)\n",
        "has_number = any(char.isdigit() for char in password)\n",
        "has_special = any(not char.isalnum() for char in password)\n",
        "length = len(password)\n",
        "if length < 6 or (has_letter and not has_number and not has_special):\n",
        "    print(\"week password\")\n",
        "elif length>=6 and has_letter and has_number and not has_special:\n",
        "    print(\"medium password\")\n",
        "elif length>=6 and has_letter and has_number and has_special:\n",
        "    print(\"strong password\")\n",
        "else :\n",
        "    print(\"uncategorized password\")\n"
      ]
    }
  ]
}